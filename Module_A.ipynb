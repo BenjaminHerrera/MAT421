{
  "cells": [
    {
      "cell_type": "markdown",
      "metadata": {},
      "source": [
        "<a target=\"_blank\" href=\"https://colab.research.google.com/github/BenjaminHerrera/MAT421/blob/main/Module_A.ipynb\">\n",
        "  <img src=\"https://colab.research.google.com/assets/colab-badge.svg\" alt=\"Open In Colab\"/>\n",
        "</a>"
      ]
    },
    {
      "cell_type": "markdown",
      "metadata": {},
      "source": [
        "# **MODULE A:** Representation of Numbers\n",
        "# **AUTHOR:** Benjamin Joseph L. Herrera\n",
        "# **CLASS:** MAT 421\n",
        "# **DATE:** 14 JAN 2024"
      ]
    },
    {
      "cell_type": "markdown",
      "metadata": {},
      "source": [
        "## Representation of Numbers, Base-N, and Binary"
      ]
    },
    {
      "cell_type": "markdown",
      "metadata": {},
      "source": [
        "There are many ways to represent numbers. For example, we can represent `10` via the following formats"
      ]
    },
    {
      "cell_type": "code",
      "execution_count": 28,
      "metadata": {},
      "outputs": [
        {
          "name": "stdout",
          "output_type": "stream",
          "text": [
            "10\n",
            "10\n",
            "10\n",
            "10\n"
          ]
        }
      ],
      "source": [
        "# Different values!\n",
        "example_1 = 10\n",
        "example_2 = bin(10)\n",
        "example_3 = \"10\"\n",
        "example_4 = 0x000A\n",
        "\n",
        "# These are all printed to the value of 10\n",
        "print(example_1)\n",
        "print(int(example_2, 2))\n",
        "print(example_3)\n",
        "print(example_4)"
      ]
    },
    {
      "cell_type": "markdown",
      "metadata": {},
      "source": [
        "Decimal values are represented in base ten. With decimal values, we can decompose \n",
        "a number with powers of the base it's representing. For example, `423.23` can be \n",
        "represented below using coefficients and powers of ten (base ten):\n"
      ]
    },
    {
      "cell_type": "markdown",
      "metadata": {},
      "source": [
        "$$423.23 = 4 \\times 10^2 + 2 \\times 10^1 + 3 \\times 10^0 + 2 \\times 10^{-1} + 3 \\times 10^{-2}$$"
      ]
    },
    {
      "cell_type": "markdown",
      "metadata": {},
      "source": [
        "Here's another example of this decomposition with Python:\n",
        "\n",
        "_NOTE:_ this will result into `423.22999999999996`, so a `round()` function is applied for appearances. We'll circle to this later."
      ]
    },
    {
      "cell_type": "code",
      "execution_count": 29,
      "metadata": {},
      "outputs": [
        {
          "name": "stdout",
          "output_type": "stream",
          "text": [
            "423.23\n"
          ]
        }
      ],
      "source": [
        "print(round(4 * 10**2 + 2 * 10**1 + 3 * 10**0 + 2 * 10**-1 + 3 * 10**-2, 2))"
      ]
    },
    {
      "cell_type": "markdown",
      "metadata": {},
      "source": [
        "Binary values are another form of representing numbers. This is done with base two representation. Using the number `12`, we can represent it as follows:"
      ]
    },
    {
      "cell_type": "markdown",
      "metadata": {},
      "source": [
        "$$12 = 1 \\times 10^1 + 2 \\times 10^0$$"
      ]
    },
    {
      "cell_type": "markdown",
      "metadata": {},
      "source": [
        "With binary (base two), it is calculated as follows: "
      ]
    },
    {
      "cell_type": "markdown",
      "metadata": {},
      "source": [
        "$$12 = 1 \\times 2^3 + 1 \\times 2^2 + 0 \\times 2^1 + 0 \\times 2^0$$"
      ]
    },
    {
      "cell_type": "markdown",
      "metadata": {},
      "source": [
        "This is binary is also represented as `1100`"
      ]
    },
    {
      "cell_type": "markdown",
      "metadata": {},
      "source": [
        "When adding and multiplying two binary values, it is the same process and adding and multplying decimal values. Here's are examples of adding 11 and 13 together in binary:"
      ]
    },
    {
      "cell_type": "markdown",
      "metadata": {},
      "source": [
        "$$\\begin{align*}\n",
        "  & \\texttt{ 111\\;} \\\\\n",
        "  & \\texttt{ 1011} \\quad \\text{(11)}\\\\\n",
        "+ & \\texttt{ 1101} \\quad \\text{(13)}\\\\\n",
        "\\hline\n",
        "  & \\texttt{11000} \\quad \\text{(24)}\n",
        "\\end{align*}$$"
      ]
    },
    {
      "cell_type": "code",
      "execution_count": 30,
      "metadata": {},
      "outputs": [
        {
          "name": "stdout",
          "output_type": "stream",
          "text": [
            "Result of ADDING 1011 + 1101 (11 + 13)\n",
            "Decimal:  24\n",
            "Binary:  0b11000\n"
          ]
        }
      ],
      "source": [
        "a = 0b1011\n",
        "b = 0b1101\n",
        "c = a + b\n",
        "print(\"Result of ADDING 1011 + 1101 (11 + 13)\")\n",
        "print(\"Decimal: \", c)\n",
        "print(\"Binary: \", bin(c))"
      ]
    },
    {
      "cell_type": "markdown",
      "metadata": {},
      "source": [
        "Here are and examples of multiplying 11 and 13 together:"
      ]
    },
    {
      "cell_type": "markdown",
      "metadata": {},
      "source": [
        "$$\\begin{align*}\n",
        "  & \\texttt{~~~~1011} \\quad \\text{(11)} \\\\\n",
        "\\times & \\texttt{~~~~1101} \\quad \\text{(13)} \\\\\n",
        "\\hline\n",
        "  & \\texttt{~~~~1011} \\\\\n",
        "  & \\texttt{~~~~~~~0} \\\\\n",
        "  & \\texttt{~~101100} \\\\\n",
        "+ & \\texttt{~1011000} \\\\\n",
        "\\hline\n",
        "  & \\texttt{10001111} \\quad \\text{(143)}\n",
        "\\end{align*}$$"
      ]
    },
    {
      "cell_type": "code",
      "execution_count": 31,
      "metadata": {},
      "outputs": [
        {
          "name": "stdout",
          "output_type": "stream",
          "text": [
            "Result of MULTIPLYING 1011 and 1101 (11 * 13)\n",
            "Decimal:  143\n",
            "Binary:  0b10001111\n"
          ]
        }
      ],
      "source": [
        "a = 0b1011\n",
        "b = 0b1101\n",
        "c = a * b\n",
        "print(\"Result of MULTIPLYING 1011 and 1101 (11 * 13)\")\n",
        "print(\"Decimal: \", c)\n",
        "print(\"Binary: \", bin(c))"
      ]
    },
    {
      "cell_type": "markdown",
      "metadata": {},
      "source": [
        "## Floating Point Numbers"
      ]
    },
    {
      "cell_type": "markdown",
      "metadata": {},
      "source": [
        "64-bit decimal values are represented using the `IEEE 754` standard. This standard uses 64 bits to represent a float value. These bits are decomposed to the following sections, in order: \n",
        "- **1 bit** for indicating the sign of the value ($s$)\n",
        "- **11 bits** for the exponent portion ($e$)\n",
        "- **52 bits** for the fraction portion ($f$)\n",
        "\n",
        "To calculate the value of a float, we use the following equation:"
      ]
    },
    {
      "cell_type": "markdown",
      "metadata": {},
      "source": [
        "$$n = (-1)^{s} \\times 2^{e-1023} \\times (1 + f)$$"
      ]
    },
    {
      "cell_type": "markdown",
      "metadata": {},
      "source": [
        "Let's take an example value of `23`. How could we represent this in the IEEE 754 format? \n",
        "\n",
        "`23` is a positive number, so $s$ is set to 0. \n",
        "\n",
        "The power of two that is lower than the value of `23` is 16. Thus, $e-1023$ needs to be 4, which makes $e = 1027$.\n",
        "\n",
        "To find the value of $f$, we solve for $f$. This leaves us with the value of `0.4375`.\n",
        "\n",
        "We can represent $s$ as `1` and $e$ as `10000000011`. To reppresent $f$, we use the following formula:"
      ]
    },
    {
      "cell_type": "markdown",
      "metadata": {},
      "source": [
        "$$f = f_{1} \\cdot \\frac{1}{2^1} + f_{2} \\cdot \\frac{1}{2^2} +  f_{3} \\cdot \\frac{1}{2^3} +\\cdots f_{52} \\cdot \\frac{1}{2^{52}}$$"
      ]
    },
    {
      "cell_type": "markdown",
      "metadata": {},
      "source": [
        "Thus, $f$ is `0111000000000000000000000000000000000000000000000000`.\n",
        "\n",
        "This means that IEEE 754 representation for `23` is `1 10000000011 0111000000000000000000000000000000000000000000000000`"
      ]
    },
    {
      "cell_type": "markdown",
      "metadata": {},
      "source": [
        "To go from IEEE 754 format to decimal, we simply plug the values of the three sections into $n$ from above. \n",
        "\n",
        "For example, we have the float representation, `0 10000000100 1010000000000000000000000000000000000000000000000000`\n",
        "\n",
        "We can see that the $s$ is just `0` and that $e$ is `1028`. For the $f$ value, we use the $f$ formula to figure out its value:"
      ]
    },
    {
      "cell_type": "markdown",
      "metadata": {},
      "source": [
        "$$f = 1 \\cdot \\frac{1}{2^1} + 0 \\cdot \\frac{1}{2^2} + 1 \\cdot \\frac{1}{2^3} = 0.625$$"
      ]
    },
    {
      "cell_type": "markdown",
      "metadata": {},
      "source": [
        "Using $n$, we get a value of `52`."
      ]
    },
    {
      "cell_type": "markdown",
      "metadata": {},
      "source": [
        "## Round-Off Errors"
      ]
    },
    {
      "cell_type": "markdown",
      "metadata": {},
      "source": [
        "The IEEE 754 standard isn't precise. We have encountered this issue when we were decomposing `423.23` into coefficients and powers of two. "
      ]
    },
    {
      "cell_type": "code",
      "execution_count": 32,
      "metadata": {},
      "outputs": [
        {
          "name": "stdout",
          "output_type": "stream",
          "text": [
            "423.22999999999996\n"
          ]
        }
      ],
      "source": [
        "print(4 * 10**2 + 2 * 10**1 + 3 * 10**0 + 2 * 10**-1 + 3 * 10**-2)"
      ]
    },
    {
      "cell_type": "markdown",
      "metadata": {},
      "source": [
        "Shown above is an imprecision of this system where it doesn't exactly meassure to `423.23`.  "
      ]
    },
    {
      "cell_type": "markdown",
      "metadata": {},
      "source": [
        "To solve this issue, we round off the value to some set number of bytes. However, when the rounded value is not equal to its ground-truth value, we get what's called a `round-off error`."
      ]
    },
    {
      "cell_type": "markdown",
      "metadata": {},
      "source": [
        "Here's another example of round-off error:"
      ]
    },
    {
      "cell_type": "code",
      "execution_count": 33,
      "metadata": {},
      "outputs": [
        {
          "data": {
            "text/plain": [
              "2.3333333333299997"
            ]
          },
          "execution_count": 33,
          "metadata": {},
          "output_type": "execute_result"
        }
      ],
      "source": [
        "3.66666666666 - 1.33333333333"
      ]
    },
    {
      "cell_type": "code",
      "execution_count": 34,
      "metadata": {},
      "outputs": [
        {
          "data": {
            "text/plain": [
              "False"
            ]
          },
          "execution_count": 34,
          "metadata": {},
          "output_type": "execute_result"
        }
      ],
      "source": [
        "3.66666666666 - 1.33333333333 == 2.33333333333"
      ]
    },
    {
      "cell_type": "markdown",
      "metadata": {},
      "source": [
        "Above is an round-off error where the subtraction operation should've resulted in the value of `1.33333333333`. Instead, it resulted in `2.3333333333299997`. "
      ]
    },
    {
      "cell_type": "markdown",
      "metadata": {},
      "source": [
        "Round-off errors can accumulate. Here's an example of this:"
      ]
    },
    {
      "cell_type": "code",
      "execution_count": 35,
      "metadata": {},
      "outputs": [
        {
          "data": {
            "text/plain": [
              "11.999999999969999"
            ]
          },
          "execution_count": 35,
          "metadata": {},
          "output_type": "execute_result"
        }
      ],
      "source": [
        "a = 0\n",
        "for i in range(9):\n",
        "    a += 1.33333333333\n",
        "a"
      ]
    },
    {
      "cell_type": "markdown",
      "metadata": {},
      "source": [
        "Here, you can see that there is a random `6` digit in the resulting `a`. This should've been a `9`, which would make the ground-truth value of `a = 11.99999999999`."
      ]
    }
  ],
  "metadata": {
    "colab": {
      "authorship_tag": "ABX9TyNwKPny2Im792IMMHKruYCG",
      "include_colab_link": true,
      "provenance": []
    },
    "kernelspec": {
      "display_name": "Python 3",
      "name": "python3"
    },
    "language_info": {
      "codemirror_mode": {
        "name": "ipython",
        "version": 3
      },
      "file_extension": ".py",
      "mimetype": "text/x-python",
      "name": "python",
      "nbconvert_exporter": "python",
      "pygments_lexer": "ipython3",
      "version": "3.10.13"
    }
  },
  "nbformat": 4,
  "nbformat_minor": 0
}
