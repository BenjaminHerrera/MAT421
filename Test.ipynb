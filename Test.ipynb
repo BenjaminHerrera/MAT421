{
  "cells": [
    {
      "cell_type": "markdown",
      "metadata": {
        "id": "7OR0-qQw0eWH"
      },
      "source": [
        "# Test Notebook"
      ]
    },
    {
      "cell_type": "code",
      "execution_count": 1,
      "metadata": {
        "colab": {
          "base_uri": "https://localhost:8080/"
        },
        "id": "4aeTC5Fm0cgB",
        "outputId": "631f960a-153f-46eb-eb60-3e93d71b6ea4"
      },
      "outputs": [
        {
          "name": "stdout",
          "output_type": "stream",
          "text": [
            "Hello World\n"
          ]
        }
      ],
      "source": [
        "print(\"Hello World\")"
      ]
    }
  ],
  "metadata": {
    "colab": {
      "provenance": []
    },
    "kernelspec": {
      "display_name": "Python 3",
      "name": "python3"
    },
    "language_info": {
      "name": "python",
      "version": "3.10.13"
    }
  },
  "nbformat": 4,
  "nbformat_minor": 0
}
