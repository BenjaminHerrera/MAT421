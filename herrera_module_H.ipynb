{
  "cells": [
    {
      "cell_type": "markdown",
      "metadata": {
        "id": "7OR0-qQw0eWH"
      },
      "source": [
        "# ⚠️ EDIT \"OPEN IN COLAB\" BADGE PRIOR TO DOING ASSIGNMENT"
      ]
    },
    {
      "cell_type": "markdown",
      "metadata": {},
      "source": [
        "<a target=\"_blank\" href=\"https://colab.research.google.com/github/BenjaminHerrera/MAT421/blob/main/herrera_module_H.ipynb\">\n",
        "  <img src=\"https://colab.research.google.com/assets/colab-badge.svg\" alt=\"Open In Colab\"/>\n",
        "</a>"
      ]
    },
    {
      "cell_type": "markdown",
      "metadata": {},
      "source": [
        "# **MODULE H:** Numerical Integration, Part I\n",
        "# **AUTHOR:** Benjamin Joseph L. Herrera\n",
        "# **CLASS:** MAT 421\n",
        "# **DATE:** 17 MAR 2024"
      ]
    },
    {
      "cell_type": "markdown",
      "metadata": {},
      "source": [
        "## ⚠️ Run these commandes prior to running anything"
      ]
    },
    {
      "cell_type": "code",
      "execution_count": 2,
      "metadata": {
        "vscode": {
          "languageId": "bat"
        }
      },
      "outputs": [
        {
          "name": "stdout",
          "output_type": "stream",
          "text": [
            "Collecting numpy\n",
            "  Using cached numpy-1.26.4-cp39-cp39-win_amd64.whl (15.8 MB)\n"
          ]
        },
        {
          "name": "stderr",
          "output_type": "stream",
          "text": [
            "ERROR: Could not find a version that satisfies the requirement as (from versions: none)\n",
            "ERROR: No matching distribution found for as\n"
          ]
        },
        {
          "name": "stdout",
          "output_type": "stream",
          "text": [
            "Collecting scipy\n",
            "  Downloading scipy-1.12.0-cp39-cp39-win_amd64.whl (46.2 MB)\n",
            "Collecting numpy<1.29.0,>=1.22.4\n",
            "  Using cached numpy-1.26.4-cp39-cp39-win_amd64.whl (15.8 MB)\n",
            "Installing collected packages: numpy, scipy\n",
            "Successfully installed numpy-1.26.4 scipy-1.12.0\n"
          ]
        }
      ],
      "source": [
        "!pip install numpy as np \n",
        "!pip install scipy\n",
        "!pip install matplotlib"
      ]
    },
    {
      "cell_type": "markdown",
      "metadata": {},
      "source": [
        "## So... How Do We Do This?"
      ]
    },
    {
      "cell_type": "markdown",
      "metadata": {},
      "source": [
        "In mathematics, engineering, computer science, and many other fields that require some degree of calculus, we use integration to calculate the area under a curve. For a linear equation, we can simply draw a triangle in areas we want to calculate from the origin to any other point in the equation. But for more complex issues like sinusoidal functions or logarithmic equations, this become more than trivial. "
      ]
    },
    {
      "cell_type": "markdown",
      "metadata": {},
      "source": [
        "One approach to doing this is by taking the area of an equation, dividing that area into chunks, calculating the area of each chunk, and adding them altogether. For example, if we have the function `f(x)` and we want to find the area in the range of `[x,y]`, we can calculate the length of each chunk `c` via a simple function:"
      ]
    },
    {
      "cell_type": "markdown",
      "metadata": {},
      "source": [
        "$$c = \\frac{y-x}{n}$$"
      ]
    },
    {
      "cell_type": "markdown",
      "metadata": {},
      "source": [
        "where `n` is the number of chunks. Additionally, we can call \"multiples\" of each chunk as subintervals $[c_i, c_{i+1}]$."
      ]
    },
    {
      "cell_type": "markdown",
      "metadata": {},
      "source": [
        "By this concept, we can derive multiple ways of approximating the integration value of a function given a range!"
      ]
    },
    {
      "cell_type": "markdown",
      "metadata": {},
      "source": [
        "## Riemanns Integrals"
      ]
    },
    {
      "cell_type": "markdown",
      "metadata": {},
      "source": [
        "This is a pretty easy method of approximating functions' integration. The length of each rectangle $w$ is the same and is defined by subtracting $c_{i}$ from $c_{i+1}$. This method adds the area of each rectangle defined by the subintervals of the function. We define this via these two equations:"
      ]
    },
    {
      "cell_type": "markdown",
      "metadata": {},
      "source": [
        "$$\\int_{x}^{y} f(x) dx \\approx \\sum^{n-1}_{i=0} w \\cdot f(x_i)$$"
      ]
    },
    {
      "cell_type": "markdown",
      "metadata": {},
      "source": [
        "and"
      ]
    },
    {
      "cell_type": "markdown",
      "metadata": {},
      "source": [
        "$$\\int_{x}^{y} f(x) dx \\approx \\sum^{n}_{i=1} w \\cdot f(x_i)$$"
      ]
    },
    {
      "cell_type": "markdown",
      "metadata": {},
      "source": [
        "The difference between the two is that the first one is the definition of a left riemann sums integral and the second one is the definition of a right riemann sums integral. "
      ]
    },
    {
      "cell_type": "markdown",
      "metadata": {},
      "source": [
        "Now this opens up the question of \"what is the error going to look like as the length of each rectangle gets smaller and smaller\"? We can answer this question by defining these integrals via their Taylor Series form:"
      ]
    },
    {
      "cell_type": "markdown",
      "metadata": {},
      "source": [
        "$$\\int_{c_i}^{c_{i+1}}f(x)dx = \\int_{c_i}^{c_{i+1}} (f'(x_i)(x-x_i) + \\cdots)dx$$"
      ]
    },
    {
      "cell_type": "markdown",
      "metadata": {},
      "source": [
        "which leads to a simplification into:"
      ]
    },
    {
      "cell_type": "markdown",
      "metadata": {},
      "source": [
        "$$\\int_{c_i}^{c_{i+1}} f(x)dx = w \\cdot f(x_i) + O(w^2)$$"
      ]
    },
    {
      "cell_type": "markdown",
      "metadata": {},
      "source": [
        "This means that the error increases in quadratically as the number of subintervals decreases. However, if $O(w^2)$ is summed over every rectangle, we get $n \\cdot O(w^2) = O(w)$. This means that the overall accuracy of Riemann's sum is $O(w)$."
      ]
    },
    {
      "cell_type": "markdown",
      "metadata": {},
      "source": [
        "Instead of making height of the rectangles based off the left and right corners of thes of the subinterval range, we can take the height of the rectangles from the midpoint of this range. This leads us with a definition below:"
      ]
    },
    {
      "cell_type": "markdown",
      "metadata": {},
      "source": [
        "$$\\int_{x}^{y} f(x)dx \\approx \\sum_{i=0}^{n-1} w \\cdot f(y_i)$$"
      ]
    },
    {
      "cell_type": "markdown",
      "metadata": {},
      "source": [
        "Using Taylor Series, we can derive its accuracy to:"
      ]
    },
    {
      "cell_type": "markdown",
      "metadata": {},
      "source": [
        "$$\\int_{c_i}^{c_{i+1}}f(x)dx = w \\cdot f(y_i) + O(w^3)$$"
      ]
    },
    {
      "cell_type": "markdown",
      "metadata": {},
      "source": [
        "Applying the same knowledge for simplifying the equation's accuracy scaling, we see that the overall accuracy is $O(w^2)$."
      ]
    },
    {
      "cell_type": "markdown",
      "metadata": {},
      "source": [
        "Let's take a look on how this is implemented into code:"
      ]
    },
    {
      "cell_type": "code",
      "execution_count": null,
      "metadata": {},
      "outputs": [],
      "source": [
        "# Imports\n",
        "import numpy as np"
      ]
    },
    {
      "cell_type": "code",
      "execution_count": 7,
      "metadata": {},
      "outputs": [
        {
          "name": "stdout",
          "output_type": "stream",
          "text": [
            "LEFT RIEMANN'S INTEGRAL\n",
            "-40.435244287571976\n",
            "42.435244287571976\n",
            "\n",
            "RIGHT RIEMANN'S INTEGRAL\n",
            "-67.05388774180963\n",
            "69.05388774180963\n"
          ]
        }
      ],
      "source": [
        "# Range definition\n",
        "x = 0\n",
        "y = 256\n",
        "\n",
        "# Subinterval and rectangle count definitions\n",
        "n = 11\n",
        "c = (y - x) / (n - 1)\n",
        "\n",
        "# Input definition\n",
        "inputs = np.linspace(x, y, n)\n",
        "\n",
        "# Function definition >> f(x) = cos(x)\n",
        "func = np.cos(inputs)\n",
        "\n",
        "# Riemann Left Integral \n",
        "riemann_left = c * sum(func[:n-1])\n",
        "riemann_left_error = 2 - riemann_left\n",
        "\n",
        "# Riemann Right Integral\n",
        "riemann_right = c * sum(func[1::])\n",
        "riemann_right_error = 2 - riemann_right\n",
        "\n",
        "# Print the results\n",
        "print(\"LEFT RIEMANN'S INTEGRAL\")\n",
        "print(riemann_left)\n",
        "print(riemann_left_error)\n",
        "print(\"\\nRIGHT RIEMANN'S INTEGRAL\")\n",
        "print(riemann_right)\n",
        "print(riemann_right_error)"
      ]
    },
    {
      "cell_type": "markdown",
      "metadata": {},
      "source": [
        "## Trapezoid Rule"
      ]
    },
    {
      "cell_type": "markdown",
      "metadata": {},
      "source": [
        "There's another method and it's called the Trapezoid Rule. This method approximates the area under a curve by creating diagonals between $x_{i}$ and $x_{i+1}$ and calculating the trapezoidal area from the diagonal to the x-axis line. This method is defined below:"
      ]
    },
    {
      "cell_type": "markdown",
      "metadata": {},
      "source": [
        "$$\\int_{x}^{y} f(x)dx \\approx \\sum_{i=0}^{n-1} w \\cdot \\frac{f(x_i)+f(x_{i+1})}{2}$$"
      ]
    },
    {
      "cell_type": "markdown",
      "metadata": {},
      "source": [
        "When decomposing the function into its Taylor Series' format, we get the following derivation:"
      ]
    },
    {
      "cell_type": "markdown",
      "metadata": {},
      "source": [
        "$$\\int_{x_i}^{x_{i+1}} f(x)dx = w \\cdot (\\frac{f(x_{x+1}) + f(x_i)}{2}) + O(w^3)$$"
      ]
    },
    {
      "cell_type": "markdown",
      "metadata": {},
      "source": [
        "This means that the accuracy scales at $O(w^2)$ over every chunk of the rule."
      ]
    },
    {
      "cell_type": "markdown",
      "metadata": {},
      "source": [
        "Let's take a look at a simple code implementation:"
      ]
    },
    {
      "cell_type": "code",
      "execution_count": 8,
      "metadata": {},
      "outputs": [
        {
          "name": "stdout",
          "output_type": "stream",
          "text": [
            "TRAPEZOIDAL RULE\n",
            "0.6927127582727761\n",
            "1.3072872417272239\n"
          ]
        }
      ],
      "source": [
        "# Range definition\n",
        "x = 0\n",
        "y = 4\n",
        "\n",
        "# Subinterval and rectangle count definitions\n",
        "n = 2\n",
        "c = (y - x) / (n - 1)\n",
        "\n",
        "# Input definition\n",
        "inputs = np.linspace(x, y, n)\n",
        "\n",
        "# Function definition >> f(x) = cos(x)\n",
        "func = np.cos(inputs)\n",
        "\n",
        "# Trapezoidal Rule\n",
        "trap_rule = (c/2)*(func[0] + 2 * sum(func[1:n-1]) + func[n-1])\n",
        "trap_rule_error = 2 - trap_rule\n",
        "\n",
        "# Print the results\n",
        "print(\"TRAPEZOIDAL RULE\")\n",
        "print(trap_rule)\n",
        "print(trap_rule_error)"
      ]
    }
  ],
  "metadata": {
    "colab": {
      "authorship_tag": "ABX9TyNwKPny2Im792IMMHKruYCG",
      "include_colab_link": true,
      "provenance": []
    },
    "kernelspec": {
      "display_name": "Python 3",
      "name": "python3"
    },
    "language_info": {
      "codemirror_mode": {
        "name": "ipython",
        "version": 3
      },
      "file_extension": ".py",
      "mimetype": "text/x-python",
      "name": "python",
      "nbconvert_exporter": "python",
      "pygments_lexer": "ipython3",
      "version": "3.9.12"
    }
  },
  "nbformat": 4,
  "nbformat_minor": 0
}
