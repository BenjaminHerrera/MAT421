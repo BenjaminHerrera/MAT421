{
  "cells": [
    {
      "cell_type": "markdown",
      "metadata": {},
      "source": [
        "<a target=\"_blank\" href=\"https://colab.research.google.com/github/BenjaminHerrera/MAT421/blob/main/herrera_module_I.ipynb\">\n",
        "  <img src=\"https://colab.research.google.com/assets/colab-badge.svg\" alt=\"Open In Colab\"/>\n",
        "</a>"
      ]
    },
    {
      "cell_type": "markdown",
      "metadata": {},
      "source": [
        "# **MODULE I:** Numerical Integration, Part II\n",
        "# **AUTHOR:** Benjamin Joseph L. Herrera\n",
        "# **CLASS:** MAT 421\n",
        "# **DATE:** 24 MAR 2024"
      ]
    },
    {
      "cell_type": "markdown",
      "metadata": {},
      "source": [
        "## ⚠️ Run these commands prior to running anything"
      ]
    },
    {
      "cell_type": "code",
      "execution_count": 1,
      "metadata": {
        "vscode": {
          "languageId": "bat"
        }
      },
      "outputs": [
        {
          "name": "stdout",
          "output_type": "stream",
          "text": [
            "Requirement already satisfied: numpy in c:\\users\\benhe\\miniconda3\\lib\\site-packages (1.26.4)\n"
          ]
        },
        {
          "name": "stderr",
          "output_type": "stream",
          "text": [
            "ERROR: Could not find a version that satisfies the requirement as (from versions: none)\n",
            "ERROR: No matching distribution found for as\n"
          ]
        },
        {
          "name": "stdout",
          "output_type": "stream",
          "text": [
            "Requirement already satisfied: scipy in c:\\users\\benhe\\miniconda3\\lib\\site-packages (1.12.0)\n",
            "Requirement already satisfied: numpy<1.29.0,>=1.22.4 in c:\\users\\benhe\\miniconda3\\lib\\site-packages (from scipy) (1.26.4)\n",
            "Collecting matplotlib\n",
            "  Downloading matplotlib-3.8.3-cp39-cp39-win_amd64.whl (7.6 MB)\n",
            "Collecting pyparsing>=2.3.1\n",
            "  Downloading pyparsing-3.1.2-py3-none-any.whl (103 kB)\n",
            "Collecting cycler>=0.10\n",
            "  Downloading cycler-0.12.1-py3-none-any.whl (8.3 kB)\n",
            "Collecting fonttools>=4.22.0\n",
            "  Downloading fonttools-4.50.0-cp39-cp39-win_amd64.whl (2.2 MB)\n",
            "Collecting kiwisolver>=1.3.1\n",
            "  Downloading kiwisolver-1.4.5-cp39-cp39-win_amd64.whl (56 kB)\n",
            "Collecting importlib-resources>=3.2.0\n",
            "  Downloading importlib_resources-6.4.0-py3-none-any.whl (38 kB)\n",
            "Requirement already satisfied: numpy<2,>=1.21 in c:\\users\\benhe\\miniconda3\\lib\\site-packages (from matplotlib) (1.26.4)\n",
            "Collecting contourpy>=1.0.1\n",
            "  Downloading contourpy-1.2.0-cp39-cp39-win_amd64.whl (181 kB)\n",
            "Collecting pillow>=8\n",
            "  Downloading pillow-10.2.0-cp39-cp39-win_amd64.whl (2.6 MB)\n",
            "Requirement already satisfied: python-dateutil>=2.7 in c:\\users\\benhe\\appdata\\roaming\\python\\python39\\site-packages (from matplotlib) (2.8.2)\n",
            "Collecting packaging>=20.0\n",
            "  Downloading packaging-24.0-py3-none-any.whl (53 kB)\n",
            "Collecting zipp>=3.1.0\n",
            "  Downloading zipp-3.18.1-py3-none-any.whl (8.2 kB)\n",
            "Requirement already satisfied: six>=1.5 in c:\\users\\benhe\\appdata\\roaming\\python\\python39\\site-packages (from python-dateutil>=2.7->matplotlib) (1.16.0)\n",
            "Installing collected packages: zipp, pyparsing, pillow, packaging, kiwisolver, importlib-resources, fonttools, cycler, contourpy, matplotlib\n",
            "Successfully installed contourpy-1.2.0 cycler-0.12.1 fonttools-4.50.0 importlib-resources-6.4.0 kiwisolver-1.4.5 matplotlib-3.8.3 packaging-24.0 pillow-10.2.0 pyparsing-3.1.2 zipp-3.18.1\n"
          ]
        }
      ],
      "source": [
        "!pip install numpy as np \n",
        "!pip install scipy\n",
        "!pip install matplotlib"
      ]
    },
    {
      "cell_type": "markdown",
      "metadata": {},
      "source": [
        "## Simpson’s Rule"
      ]
    },
    {
      "cell_type": "markdown",
      "metadata": {},
      "source": [
        "Continuing our discussion from **Module H**, we take a look at Simpson's Rule. This method looks at making interpolations at the points of $x_{i-1}$, $x_i$, and $x_{i+1}$ and calculating the area of the interpolation from $x_{i-1}$ to $x_{i+1}$. Note that this is an interpolation of the extremes of two side-by-side chunks ($c$). To find the interpolation of this interval at range of these two chunks, we define a curve:"
      ]
    },
    {
      "cell_type": "markdown",
      "metadata": {},
      "source": [
        "$$I_i(x) = \\frac{f(x_{i-1})}{2c^2}(x-x_i)(x-x_{i+1}) - \\frac{f(x_i)}{c^2}(x-x_{i-1})(x-x_{i+1})+\\frac{f(x_{i+1})}{2c^2}(x-x_{i-1})(x-x_i)$$"
      ]
    },
    {
      "cell_type": "markdown",
      "metadata": {},
      "source": [
        "We then calculate the area via the integration"
      ]
    },
    {
      "cell_type": "markdown",
      "metadata": {},
      "source": [
        "$$\\int_{x_{i-1}}^{x_{i+1}}I_i(x)dx$$"
      ]
    },
    {
      "cell_type": "markdown",
      "metadata": {},
      "source": [
        "which would lead to"
      ]
    },
    {
      "cell_type": "markdown",
      "metadata": {},
      "source": [
        "$$\\frac{c}{3}[f(x_{i-1})+ 4 f(x_i) + f(x_{i+1})]$$"
      ]
    },
    {
      "cell_type": "markdown",
      "metadata": {},
      "source": [
        "Using this knowledge to calculate the integral of a function over $(k, z)$, we apply the derived integration formula to th function"
      ]
    },
    {
      "cell_type": "markdown",
      "metadata": {},
      "source": [
        "$$\\int_k^z f(x)dx \\approx \\frac{c}{3}\\left[f(x_0) + 4 \\left(\\sum^{n-1}_{i =1 \\textrm{\\; When $i$ is odd}}f(x_i)\\right) + 2\\left(\\sum^{n-2}_{i=2 \\textrm{\\; When $i$ is even}} f(x_i)\\right) + f(x_n)\\right]$$"
      ]
    },
    {
      "cell_type": "markdown",
      "metadata": {},
      "source": [
        "Now, when it comes to calculating the accuracy, it can be a little bit more tricky than the other methods that we have looked at in the last module. But, nevertheless, we use Taylor Series to break down the composition of the derived integration function. This leads us to"
      ]
    },
    {
      "cell_type": "markdown",
      "metadata": {},
      "source": [
        "$$f(x_i) = \\frac{f(x_{i-1}) + 4f(x_i) + f(x_{i+1})}{6} - \\frac{c^2}{6}f''(x_i) + O(c^4)$$"
      ]
    },
    {
      "cell_type": "markdown",
      "metadata": {},
      "source": [
        "When we apply this function into an integral over the range of the two chunks, we get"
      ]
    },
    {
      "cell_type": "markdown",
      "metadata": {},
      "source": [
        "$$\\frac{c}{3}\\left[\\frac{c}{3} (f(x_{x_i}) + 4f(x_i) + f(x_{i+1})) - \\frac{c^3}{3}f''(x_i) + O(c^5) \\right] + \\frac{c^3}{3}f''(x_i) + O(c^5)$$"
      ]
    },
    {
      "cell_type": "markdown",
      "metadata": {},
      "source": [
        "This $O(c^5)$ accuracy means as the length of the chunks decrease, then the error decreases faster than the other methods. This is, however, only applied to part of the whole integral. When applied to the whole interval, this accuracy is $O(c^4)$."
      ]
    },
    {
      "cell_type": "markdown",
      "metadata": {},
      "source": [
        "Albeit complicated, this method is far better, in terms of accuracy scaling, than Riemanns Sums and the Trapezoid Rule. "
      ]
    },
    {
      "cell_type": "markdown",
      "metadata": {},
      "source": [
        "Let's take a look at a code implementation of this on the function $cos(x)$!"
      ]
    },
    {
      "cell_type": "code",
      "execution_count": 2,
      "metadata": {},
      "outputs": [],
      "source": [
        "# Imports\n",
        "import numpy as np"
      ]
    },
    {
      "cell_type": "code",
      "execution_count": 9,
      "metadata": {},
      "outputs": [
        {
          "name": "stdout",
          "output_type": "stream",
          "text": [
            "TRAPEZOIDAL RULE\n",
            "0.46180850551518404\n",
            "1.538191494484816\n"
          ]
        }
      ],
      "source": [
        "# Range definition\n",
        "x = 0\n",
        "y = 4\n",
        "\n",
        "# Subinterval and rectangle count definitions\n",
        "n = 2\n",
        "c = (y - x) / (n - 1)\n",
        "\n",
        "# Input definition\n",
        "inputs = np.linspace(x, y, n)\n",
        "\n",
        "# Function definition >> f(x) = cos(x)\n",
        "func = np.cos(inputs)\n",
        "\n",
        "# Simpson's Rule\n",
        "simpson_rule = (c/3) * (func[0] + 2*sum(func[:n-2:2]) + 4*sum(func[1:n-1:2]) + func[n-1])\n",
        "simpson_rule_error = 2 - simpson_rule\n",
        "\n",
        "# Print the results\n",
        "print(\"SIMPSON'S RULE\")\n",
        "print(simpson_rule)\n",
        "print(simpson_rule_error)"
      ]
    },
    {
      "cell_type": "markdown",
      "metadata": {},
      "source": [
        "## Computing Integrals in Python"
      ]
    },
    {
      "cell_type": "markdown",
      "metadata": {},
      "source": [
        "Instead of just writing out the equations for the integrations, we can leverage `scipy.integrate` library. "
      ]
    },
    {
      "cell_type": "markdown",
      "metadata": {},
      "source": [
        "For Riemmans Sum, use: `scipy.integrate.quad()` _(NOTE: You will need to do a little bit of toying with your data prior to passing it into this function)_"
      ]
    },
    {
      "cell_type": "markdown",
      "metadata": {},
      "source": [
        "For Trapezoid Rule, use `scipy.integrate.trapz()`"
      ]
    },
    {
      "cell_type": "markdown",
      "metadata": {},
      "source": [
        "For Simpson's Rule, use `scipy.integrate.simps()`"
      ]
    },
    {
      "cell_type": "markdown",
      "metadata": {},
      "source": [
        "Here's an example of how you can use the simpson's rule. Apply this example to other integration features with scipy if you want to use Riemann's or other methods."
      ]
    },
    {
      "cell_type": "code",
      "execution_count": 5,
      "metadata": {},
      "outputs": [],
      "source": [
        "# Imports\n",
        "from scipy.integrate import simps"
      ]
    },
    {
      "cell_type": "code",
      "execution_count": 8,
      "metadata": {},
      "outputs": [
        {
          "name": "stdout",
          "output_type": "stream",
          "text": [
            "TRAPEZOIDAL RULE\n",
            "0.6927127582727761\n",
            "1.3072872417272239\n"
          ]
        },
        {
          "name": "stderr",
          "output_type": "stream",
          "text": [
            "C:\\Users\\BenHe\\AppData\\Local\\Temp\\ipykernel_22444\\1371662332.py:16: DeprecationWarning: 'scipy.integrate.simps' is deprecated in favour of 'scipy.integrate.simpson' and will be removed in SciPy 1.14.0\n",
            "  simpsons_rule_with_scipy = simps(func, inputs)\n"
          ]
        }
      ],
      "source": [
        "# Range definition\n",
        "x = 0\n",
        "y = 4\n",
        "\n",
        "# Subinterval and rectangle count definitions\n",
        "n = 2\n",
        "c = (y - x) / (n - 1)\n",
        "\n",
        "# Input definition\n",
        "inputs = np.linspace(x, y, n)\n",
        "\n",
        "# Function definition >> f(x) = cos(x)\n",
        "func = np.cos(inputs)\n",
        "\n",
        "# Simpson's Rule, but with Scipy\n",
        "simpsons_rule_with_scipy = simps(func, inputs)\n",
        "simpsons_rule_with_scipy_error = 2 - simpsons_rule_with_scipy\n",
        "\n",
        "# Print the results\n",
        "print(\"SIMPSON'S RULE WITH SCIPY\")\n",
        "print(simpsons_rule_with_scipy)\n",
        "print(simpsons_rule_with_scipy_error)"
      ]
    }
  ],
  "metadata": {
    "colab": {
      "authorship_tag": "ABX9TyNwKPny2Im792IMMHKruYCG",
      "include_colab_link": true,
      "provenance": []
    },
    "kernelspec": {
      "display_name": "Python 3",
      "name": "python3"
    },
    "language_info": {
      "codemirror_mode": {
        "name": "ipython",
        "version": 3
      },
      "file_extension": ".py",
      "mimetype": "text/x-python",
      "name": "python",
      "nbconvert_exporter": "python",
      "pygments_lexer": "ipython3",
      "version": "3.9.12"
    }
  },
  "nbformat": 4,
  "nbformat_minor": 0
}
