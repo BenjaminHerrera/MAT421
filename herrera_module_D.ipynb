{
  "cells": [
    {
      "cell_type": "markdown",
      "metadata": {},
      "source": [
        "<a target=\"_blank\" href=\"https://colab.research.google.com/github/BenjaminHerrera/MAT421/blob/main/herrera_module_D.ipynb\">\n",
        "  <img src=\"https://colab.research.google.com/assets/colab-badge.svg\" alt=\"Open In Colab\"/>\n",
        "</a>"
      ]
    },
    {
      "cell_type": "markdown",
      "metadata": {},
      "source": [
        "# **MODULE D:** Root Finding\n",
        "# **AUTHOR:** Benjamin Joseph L. Herrera\n",
        "# **CLASS:** MAT 421\n",
        "# **DATE:** 4 FEB 2024"
      ]
    },
    {
      "cell_type": "markdown",
      "metadata": {},
      "source": [
        "## ⚠️ Run these commandes prior to running anything"
      ]
    },
    {
      "cell_type": "code",
      "execution_count": 31,
      "metadata": {
        "vscode": {
          "languageId": "bat"
        }
      },
      "outputs": [
        {
          "name": "stdout",
          "output_type": "stream",
          "text": [
            "Requirement already satisfied: scipy in d:\\programs\\miniconda\\envs\\mat421\\lib\\site-packages (1.12.0)\n",
            "Requirement already satisfied: numpy<1.29.0,>=1.22.4 in d:\\programs\\miniconda\\envs\\mat421\\lib\\site-packages (from scipy) (1.26.3)\n",
            "Requirement already satisfied: matplotlib in d:\\programs\\miniconda\\envs\\mat421\\lib\\site-packages (3.8.2)\n",
            "Requirement already satisfied: contourpy>=1.0.1 in d:\\programs\\miniconda\\envs\\mat421\\lib\\site-packages (from matplotlib) (1.2.0)\n",
            "Requirement already satisfied: cycler>=0.10 in d:\\programs\\miniconda\\envs\\mat421\\lib\\site-packages (from matplotlib) (0.12.1)\n",
            "Requirement already satisfied: fonttools>=4.22.0 in d:\\programs\\miniconda\\envs\\mat421\\lib\\site-packages (from matplotlib) (4.47.2)\n",
            "Requirement already satisfied: kiwisolver>=1.3.1 in d:\\programs\\miniconda\\envs\\mat421\\lib\\site-packages (from matplotlib) (1.4.5)\n",
            "Requirement already satisfied: numpy<2,>=1.21 in d:\\programs\\miniconda\\envs\\mat421\\lib\\site-packages (from matplotlib) (1.26.3)\n",
            "Requirement already satisfied: packaging>=20.0 in d:\\programs\\miniconda\\envs\\mat421\\lib\\site-packages (from matplotlib) (23.2)\n",
            "Requirement already satisfied: pillow>=8 in d:\\programs\\miniconda\\envs\\mat421\\lib\\site-packages (from matplotlib) (10.2.0)\n",
            "Requirement already satisfied: pyparsing>=2.3.1 in d:\\programs\\miniconda\\envs\\mat421\\lib\\site-packages (from matplotlib) (3.1.1)\n",
            "Requirement already satisfied: python-dateutil>=2.7 in d:\\programs\\miniconda\\envs\\mat421\\lib\\site-packages (from matplotlib) (2.8.2)\n",
            "Requirement already satisfied: six>=1.5 in d:\\programs\\miniconda\\envs\\mat421\\lib\\site-packages (from python-dateutil>=2.7->matplotlib) (1.16.0)\n"
          ]
        }
      ],
      "source": [
        "!pip install scipy\n",
        "!pip install matplotlib"
      ]
    },
    {
      "cell_type": "markdown",
      "metadata": {},
      "source": [
        "## The Problem in Finding the Root of a Function"
      ]
    },
    {
      "cell_type": "markdown",
      "metadata": {},
      "source": [
        "A root of a function $f(x)$, is a value $x$ that can evaluate a function to zero. It also known as a zero of a function. An example of a root of a function $f(x) = x^2 + x - 6$ is $x=2$ or $x=-3$. However, much more complicated functions are harder to determine their root. However, we can find it using `scipy`'s fsolve function."
      ]
    },
    {
      "cell_type": "code",
      "execution_count": 32,
      "metadata": {},
      "outputs": [
        {
          "name": "stdout",
          "output_type": "stream",
          "text": [
            "x = [1.57079633]\n",
            "result= [0.]\n"
          ]
        }
      ],
      "source": [
        "# Imports\n",
        "import numpy as np \n",
        "from scipy import optimize\n",
        "\n",
        "# Define a really complicated function and solve the root\n",
        "f = lambda x: np.power(np.sin(x),2) - np.power(np.sin(x),3)\n",
        "x = optimize.fsolve(f, 2)\n",
        "print(\"x =\", x)\n",
        "\n",
        "# Verify that this is the correct root\n",
        "result = f(x)\n",
        "print(\"result=\", result)\n"
      ]
    },
    {
      "cell_type": "markdown",
      "metadata": {},
      "source": [
        "If we have a function $f(x) = \\frac{1}{x^9}$, we can get a large value that approximates a value $x$ where $f(x) = 0$"
      ]
    },
    {
      "cell_type": "code",
      "execution_count": 33,
      "metadata": {},
      "outputs": [
        {
          "name": "stdout",
          "output_type": "stream",
          "text": [
            "x = [8.61272453e+12]\n",
            "result= [3.83473173e-117]\n",
            "The number of calls to function has reached maxfev = 400.\n"
          ]
        }
      ],
      "source": [
        "# Reciprocate the function defined above\n",
        "f = lambda x: 1/np.power(x,9)\n",
        "\n",
        "# Print he value of x\n",
        "x, infodict, ier, mesg = optimize.fsolve(f, 2, full_output=True)\n",
        "print(\"x =\", x)\n",
        "\n",
        "# Print the value of f(x) for a close approximation to 0\n",
        "result = f(x)\n",
        "print(\"result=\", result)\n",
        "\n",
        "# Print the result of the fsolve() when calculating for the root\n",
        "print(mesg)"
      ]
    },
    {
      "cell_type": "markdown",
      "metadata": {},
      "source": [
        "## Tolerance"
      ]
    },
    {
      "cell_type": "markdown",
      "metadata": {},
      "source": [
        "We can tolerate solutions provided by a computer if the error of that solution is within a certain threshold. Similar to the previous example, when we were finding the root of $f(x) = \\frac{1}{x^9}$, we received a very large value of $x$ that evaluates to a very small value. If our tolerance of a value of $x$ equating to $f(x)$ were to be $10^{-7}$, then we would accept that large value of $x$ as the root for that equation. How would we measure the error? One way of doing so is checking the difference between an algorithm's current guess to its next one as shown in the equation here:"
      ]
    },
    {
      "cell_type": "markdown",
      "metadata": {},
      "source": [
        "$$\\textrm{error} = |f(x_{i+1}) - f(x_i)|"
      ]
    },
    {
      "cell_type": "markdown",
      "metadata": {},
      "source": [
        "Another way is to just simply get the absolute value of $f(x)$. By calculating these errors as such, we can see if a given $x$ can evaluate to zero within a certain tolerance threshold."
      ]
    },
    {
      "cell_type": "markdown",
      "metadata": {},
      "source": [
        "For example, if I want to calculate the error of a function $f(x) = x^2 + x - 6 + \\frac{\\textrm{tol}}{3}$ using the latter method, I would get $|f(-3)| = \\frac{\\textrm{tol}}{3}$. Using "
      ]
    },
    {
      "cell_type": "markdown",
      "metadata": {},
      "source": [
        "## Bisection"
      ]
    },
    {
      "cell_type": "markdown",
      "metadata": {},
      "source": [
        "The **Intermediatet Value Theorem** states that if a function $f(x)$ is continuous and that $sign(f(a)) \\neq sign(f(b))$ where $a < b$, then there is a value $c$ where $f(c) = 0$ such that $a < c < b$. When solving for the root of a function, we can use this theorem to find its root. This process is called the **bisection method**. The thought process for using this method follows these steps:"
      ]
    },
    {
      "cell_type": "markdown",
      "metadata": {},
      "source": [
        "1. Given a function $f(x)$, $f(a)$ > 0 and $f(b) < 0$ where $a < b$ we can calculatte a midpoint $m = \\frac{a + b}{2}$\n",
        "2. We evaluate $f(m)$ and see if it's error is close to enough to $0$.\n",
        "    - If so, accept $m$ as the root.\n",
        "    - If not and $f(m) > 0$, go to step 1, but replace $a$ with $m$.\n",
        "    - If not and $f(m) < 0$, go to step 1, but replace $b$ with $m$."
      ]
    },
    {
      "cell_type": "markdown",
      "metadata": {},
      "source": [
        "This process repeats until $f(m)$ has a low enough error where it can be tolerated."
      ]
    },
    {
      "cell_type": "markdown",
      "metadata": {},
      "source": [
        "We can define a function that can do this for us:"
      ]
    },
    {
      "cell_type": "code",
      "execution_count": 34,
      "metadata": {},
      "outputs": [],
      "source": [
        "def bisection_method(f, a, b, tol): \n",
        "    # check if a and b bound a root\n",
        "    if np.sign(f(a)) == np.sign(f(b)):\n",
        "        raise Exception(\"The scalars a and b do not bound a root\")\n",
        "    \n",
        "    # Variable declaration\n",
        "    m = None\n",
        "    \n",
        "    # Iterate until the threshold is met\n",
        "    while True:\n",
        "        # get the midpoint\n",
        "        m = (a + b) / 2\n",
        "\n",
        "        # First Case\n",
        "        if np.abs(f(m)) < tol:\n",
        "            return m\n",
        "        \n",
        "        # Second Case\n",
        "        elif np.sign(f(a)) == np.sign(f(m)):\n",
        "            a = m\n",
        "        \n",
        "        # Third Case\n",
        "        elif np.sign(f(b)) == np.sign(f(m)):\n",
        "            b = m"
      ]
    },
    {
      "cell_type": "markdown",
      "metadata": {},
      "source": [
        "Here's an example of using this method on a function $f(x) = x^3 + x - 6$:"
      ]
    },
    {
      "cell_type": "code",
      "execution_count": 35,
      "metadata": {},
      "outputs": [
        {
          "name": "stdout",
          "output_type": "stream",
          "text": [
            "r1 = 1.625\n",
            "r01 = 1.634765625\n",
            "f(r1) = -0.083984375\n",
            "f(r01) = 0.0036091580986976624\n"
          ]
        }
      ],
      "source": [
        "# Definition of the function\n",
        "f = lambda x: x**3 + x - 6\n",
        "\n",
        "# Show different values of m based on the precision of the tolerance\n",
        "r1 = bisection_method(f, 0, 2, 0.1)\n",
        "print(\"r1 =\", r1)\n",
        "r01 = bisection_method(f, 0, 2, 0.01)\n",
        "print(\"r01 =\", r01)\n",
        "\n",
        "# Show final result\n",
        "print(\"f(r1) =\", f(r1))\n",
        "print(\"f(r01) =\", f(r01))"
      ]
    },
    {
      "cell_type": "markdown",
      "metadata": {},
      "source": [
        "If $a$ and $b$ are values of $f(x)$ where they are greater than 0, the function will return an error:"
      ]
    },
    {
      "cell_type": "code",
      "execution_count": 36,
      "metadata": {},
      "outputs": [
        {
          "ename": "Exception",
          "evalue": "The scalars a and b do not bound a root",
          "output_type": "error",
          "traceback": [
            "\u001b[1;31m---------------------------------------------------------------------------\u001b[0m",
            "\u001b[1;31mException\u001b[0m                                 Traceback (most recent call last)",
            "Cell \u001b[1;32mIn[36], line 5\u001b[0m\n\u001b[0;32m      2\u001b[0m f \u001b[38;5;241m=\u001b[39m \u001b[38;5;28;01mlambda\u001b[39;00m x: x\u001b[38;5;241m*\u001b[39m\u001b[38;5;241m*\u001b[39m\u001b[38;5;241m3\u001b[39m \u001b[38;5;241m+\u001b[39m x \u001b[38;5;241m-\u001b[39m \u001b[38;5;241m6\u001b[39m\n\u001b[0;32m      4\u001b[0m \u001b[38;5;66;03m# Show different values of m based on the precision of the tolerance\u001b[39;00m\n\u001b[1;32m----> 5\u001b[0m r1 \u001b[38;5;241m=\u001b[39m \u001b[43mbisection_method\u001b[49m\u001b[43m(\u001b[49m\u001b[43mf\u001b[49m\u001b[43m,\u001b[49m\u001b[43m \u001b[49m\u001b[38;5;241;43m4\u001b[39;49m\u001b[43m,\u001b[49m\u001b[43m \u001b[49m\u001b[38;5;241;43m87\u001b[39;49m\u001b[43m,\u001b[49m\u001b[43m \u001b[49m\u001b[38;5;241;43m0.1\u001b[39;49m\u001b[43m)\u001b[49m        \u001b[38;5;66;03m# ERROR OCCURS HERE\u001b[39;00m\n\u001b[0;32m      6\u001b[0m \u001b[38;5;28mprint\u001b[39m(\u001b[38;5;124m\"\u001b[39m\u001b[38;5;124mr1 =\u001b[39m\u001b[38;5;124m\"\u001b[39m, r1)\n\u001b[0;32m      7\u001b[0m r01 \u001b[38;5;241m=\u001b[39m bisection_method(f, \u001b[38;5;241m4\u001b[39m, \u001b[38;5;241m87\u001b[39m, \u001b[38;5;241m0.01\u001b[39m)\n",
            "Cell \u001b[1;32mIn[34], line 4\u001b[0m, in \u001b[0;36mbisection_method\u001b[1;34m(f, a, b, tol)\u001b[0m\n\u001b[0;32m      1\u001b[0m \u001b[38;5;28;01mdef\u001b[39;00m \u001b[38;5;21mbisection_method\u001b[39m(f, a, b, tol): \n\u001b[0;32m      2\u001b[0m     \u001b[38;5;66;03m# check if a and b bound a root\u001b[39;00m\n\u001b[0;32m      3\u001b[0m     \u001b[38;5;28;01mif\u001b[39;00m np\u001b[38;5;241m.\u001b[39msign(f(a)) \u001b[38;5;241m==\u001b[39m np\u001b[38;5;241m.\u001b[39msign(f(b)):\n\u001b[1;32m----> 4\u001b[0m         \u001b[38;5;28;01mraise\u001b[39;00m \u001b[38;5;167;01mException\u001b[39;00m(\u001b[38;5;124m\"\u001b[39m\u001b[38;5;124mThe scalars a and b do not bound a root\u001b[39m\u001b[38;5;124m\"\u001b[39m)\n\u001b[0;32m      6\u001b[0m     \u001b[38;5;66;03m# Variable declaration\u001b[39;00m\n\u001b[0;32m      7\u001b[0m     m \u001b[38;5;241m=\u001b[39m \u001b[38;5;28;01mNone\u001b[39;00m\n",
            "\u001b[1;31mException\u001b[0m: The scalars a and b do not bound a root"
          ]
        }
      ],
      "source": [
        "# Definition of the function\n",
        "f = lambda x: x**3 + x - 6\n",
        "\n",
        "# Show different values of m based on the precision of the tolerance\n",
        "r1 = bisection_method(f, 4, 87, 0.1)        # ERROR OCCURS HERE\n",
        "print(\"r1 =\", r1)\n",
        "r01 = bisection_method(f, 4, 87, 0.01)\n",
        "print(\"r01 =\", r01)\n",
        "\n",
        "# Show final result\n",
        "print(\"f(r1) =\", f(r1))\n",
        "print(\"f(r01) =\", f(r01))"
      ]
    },
    {
      "cell_type": "markdown",
      "metadata": {},
      "source": [
        "## Newton-Raphson Method"
      ]
    },
    {
      "cell_type": "markdown",
      "metadata": {},
      "source": [
        "Another method of finding the root of a function $f(x)$, we guess a value $x_0$. Afterwards we test its error. If the error is not tolerable, we calculate another $x$ value called $x_1$. This is done by calculating:"
      ]
    },
    {
      "cell_type": "markdown",
      "metadata": {},
      "source": [
        "$$x_1 = x_0 - \\frac{f(x_0)}{f'(x_0)}$$"
      ]
    },
    {
      "cell_type": "markdown",
      "metadata": {},
      "source": [
        "We then test $x_1$ and see if that gets us a $f(x)$ that is tolerable. If not, this process repeats again until a tolerable $x$ is found. "
      ]
    },
    {
      "cell_type": "markdown",
      "metadata": {},
      "source": [
        "Let's look at a computational example by defining this process into a function:"
      ]
    },
    {
      "cell_type": "code",
      "execution_count": null,
      "metadata": {},
      "outputs": [],
      "source": [
        "def newton_raphson(f, df, x, tol):\n",
        "    # Loop until a solution is found\n",
        "    while True:\n",
        "        # If the value of f(x) is tolerable, return x\n",
        "        if abs(f(x)) < tol:\n",
        "            return x\n",
        "        \n",
        "        # If not, calculate the next x using the equation defined above\n",
        "        else:\n",
        "            x = x - f(x)/df(x)"
      ]
    },
    {
      "cell_type": "code",
      "execution_count": null,
      "metadata": {},
      "outputs": [
        {
          "name": "stdout",
          "output_type": "stream",
          "text": [
            "estimation of root: 1.6343672161048657\n"
          ]
        }
      ],
      "source": [
        "# Define an examplarary function and its derivative\n",
        "f = lambda x: x**3 + x - 6\n",
        "f_deriv = lambda x: 3 * x**2 + 1\n",
        "\n",
        "# Calculate the roots\n",
        "print(\"estimation of root:\", newton_raphson(f, f_deriv, 9, 0.01))"
      ]
    },
    {
      "cell_type": "markdown",
      "metadata": {},
      "source": [
        "This method is very simple and it can find our solution faster than bisection. However, when the guessed $x$ is very far from the root, then it can take some time to converge to the solution. Additionally, this method may calculate a root that is different from an ideal root which may not be useful for certain applications."
      ]
    },
    {
      "cell_type": "markdown",
      "metadata": {},
      "source": []
    }
  ],
  "metadata": {
    "colab": {
      "authorship_tag": "ABX9TyNwKPny2Im792IMMHKruYCG",
      "include_colab_link": true,
      "provenance": []
    },
    "kernelspec": {
      "display_name": "Python 3",
      "name": "python3"
    },
    "language_info": {
      "codemirror_mode": {
        "name": "ipython",
        "version": 3
      },
      "file_extension": ".py",
      "mimetype": "text/x-python",
      "name": "python",
      "nbconvert_exporter": "python",
      "pygments_lexer": "ipython3",
      "version": "3.10.13"
    }
  },
  "nbformat": 4,
  "nbformat_minor": 0
}
